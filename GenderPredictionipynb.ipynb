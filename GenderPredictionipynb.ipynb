{
  "nbformat": 4,
  "nbformat_minor": 0,
  "metadata": {
    "colab": {
      "name": "GenderPredictionipynb",
      "provenance": [],
      "collapsed_sections": [],
      "authorship_tag": "ABX9TyMEMl22eaw5rR+UddkFdORn"
    },
    "kernelspec": {
      "name": "python3",
      "display_name": "Python 3"
    }
  },
  "cells": [
    {
      "cell_type": "code",
      "metadata": {
        "id": "aw8Vnj-woT3B",
        "colab_type": "code",
        "colab": {}
      },
      "source": [
        "!pip install streamlit"
      ],
      "execution_count": null,
      "outputs": []
    },
    {
      "cell_type": "code",
      "metadata": {
        "id": "3T2P4wK5odZX",
        "colab_type": "code",
        "colab": {}
      },
      "source": [
        "!wget https://bin.equinox.io/c/4VmDzA7iaHb/ngrok-stable-linux-amd64.zip\n",
        "!unzip -qq ngrok-stable-linux-amd64.zip"
      ],
      "execution_count": null,
      "outputs": []
    },
    {
      "cell_type": "code",
      "metadata": {
        "id": "xUmahQl_qeZ8",
        "colab_type": "code",
        "colab": {}
      },
      "source": [
        "from google.colab import files\n",
        "\n",
        "files.upload()"
      ],
      "execution_count": null,
      "outputs": []
    },
    {
      "cell_type": "code",
      "metadata": {
        "id": "pXr4r7itonGM",
        "colab_type": "code",
        "colab": {}
      },
      "source": [
        "%%writefile app.py\n",
        "import streamlit as st \n",
        "# ML Pkg\n",
        "# from sklearn.externals import joblib\n",
        "import joblib\n",
        "import time\n",
        "from PIL import Image\n",
        "\n",
        "# load Vectorizer For Gender Prediction\n",
        "gender_vectorizer = open(\"gender_vectorizer.pkl\",\"rb\")\n",
        "gender_cv = joblib.load(gender_vectorizer)\n",
        "\n",
        "# load Model For Gender Prediction\n",
        "gender_nv_model = open(\"naivebayesgendermodel.pkl\",\"rb\")\n",
        "gender_clf = joblib.load(gender_nv_model)\n",
        "\n",
        "\n",
        "# Prediction\n",
        "def predict_gender(data):\n",
        "\tvect = gender_cv.transform(data).toarray()\n",
        "\tresult = gender_clf.predict(vect)\n",
        "\treturn result\n",
        "\n",
        "# Load CSS File\n",
        "def load_css(file_name):\n",
        "    with open(file_name) as f:\n",
        "        st.markdown('<style>{}</style>'.format(f.read()), unsafe_allow_html=True)\n",
        "\n",
        "def load_icon(icon_name):\n",
        "    st.markdown('<i class=\"material-icons\">{}</i>'.format(icon_name), unsafe_allow_html=True)\n",
        "\n",
        "# Images\n",
        "def load_images(file_name):\n",
        "\timg = Image.open(file_name)\n",
        "\treturn st.image(img,width=300)\n",
        "\n",
        "\n",
        "def main():\n",
        "\t\"\"\"Gender Classifier App\n",
        "\tUsing Machine Learning and Streamlit\n",
        "\t\"\"\"\n",
        "\n",
        "\tst.title(\"Gender Classifier\")\n",
        "\thtml_temp = \"\"\"\n",
        "\t<div style=\"background-color:tomato;padding:10px\">\n",
        "\t<h2 style=\"color:white;text-align:center;\">Streamlit ML App </h2>\n",
        "\t</div>\n",
        "\t\"\"\"\n",
        "\tst.markdown(html_temp,unsafe_allow_html=True)\n",
        "\tload_css('icon.css')\n",
        "\tload_icon('people')\n",
        "\n",
        "\tname = st.text_input(\"Enter Name\",\"\")\n",
        "\tif st.button(\"Predict\"):\n",
        "\t\tresult = predict_gender([name])\n",
        "\t\tif result[0] == 0:\n",
        "\t\t\tprediction = 'Female'\n",
        "\t\t\tc_img = 'female.png'\n",
        "\t\telse:\n",
        "\t\t\tresult[0] == 1\n",
        "\t\t\tprediction = 'Male'\n",
        "\t\t\tc_img = 'male.png'\n",
        "\n",
        "\t\tst.success('Name: {} was classified as {}'.format(name.title(),prediction))\n",
        "\t\tload_images(c_img)\n",
        "\n",
        "\n",
        "\tif st.button(\"About\"):\n",
        "\n",
        "\t\tst.text(\"@umangsavla\")\n",
        "\t\tst.text(\"By Umang Savla\")\n",
        "\t\tst.text(\"Built with Streamlit\")\n",
        "\n",
        "\n",
        "\n",
        "if __name__ == '__main__':\n",
        "\tmain()\n"
      ],
      "execution_count": null,
      "outputs": []
    },
    {
      "cell_type": "code",
      "metadata": {
        "id": "zY212es_ojik",
        "colab_type": "code",
        "colab": {
          "base_uri": "https://localhost:8080/",
          "height": 34
        },
        "outputId": "46d00dad-3132-46dc-ca80-ada6001f5c38"
      },
      "source": [
        "get_ipython().system_raw('./ngrok http 8501 &')\n",
        "! curl -s http://localhost:4040/api/tunnels | python3 -c \\\n",
        "    \"import sys, json; print(json.load(sys.stdin)['tunnels'][1]['public_url'])\""
      ],
      "execution_count": 6,
      "outputs": [
        {
          "output_type": "stream",
          "text": [
            "http://58a1775e7b7b.ngrok.io\n"
          ],
          "name": "stdout"
        }
      ]
    },
    {
      "cell_type": "code",
      "metadata": {
        "id": "IRJnEq1xokl-",
        "colab_type": "code",
        "colab": {}
      },
      "source": [
        "!streamlit run app.py"
      ],
      "execution_count": null,
      "outputs": []
    }
  ]
}